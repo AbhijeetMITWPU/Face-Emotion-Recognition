{
 "cells": [
  {
   "cell_type": "code",
   "execution_count": null,
   "id": "61db792a-e256-45e8-8af1-6bc116253391",
   "metadata": {},
   "outputs": [],
   "source": [
    "pip install --upgrade numpy keras tensorflow\n"
   ]
  },
  {
   "cell_type": "code",
   "execution_count": 1,
   "id": "19ce7749",
   "metadata": {},
   "outputs": [],
   "source": [
    "from tensorflow.keras.utils import to_categorical\n",
    "from tensorflow.keras.preprocessing.image import load_img\n",
    "from tensorflow.keras.models import Sequential\n",
    "from tensorflow.keras.layers import Dense, Conv2D, Dropout, Flatten, MaxPooling2D\n",
    "import os\n",
    "import pandas as pd\n",
    "import numpy as np"
   ]
  },
  {
   "cell_type": "code",
   "execution_count": 2,
   "id": "02e9c221",
   "metadata": {},
   "outputs": [],
   "source": [
    "TRAIN_DIR = 'images/train'\n",
    "TEST_DIR = 'images/test'"
   ]
  },
  {
   "cell_type": "code",
   "execution_count": 3,
   "id": "ede9c1f1",
   "metadata": {},
   "outputs": [],
   "source": [
    "def createdataframe(dir):\n",
    "    image_paths = []\n",
    "    labels = []\n",
    "    for label in os.listdir(dir):\n",
    "        for imagename in os.listdir(os.path.join(dir,label)):\n",
    "            image_paths.append(os.path.join(dir,label,imagename))\n",
    "            labels.append(label)\n",
    "        print(label, \"completed\")\n",
    "    return image_paths,labels\n"
   ]
  },
  {
   "cell_type": "code",
   "execution_count": 4,
   "id": "a3a8f1a9",
   "metadata": {},
   "outputs": [
    {
     "name": "stdout",
     "output_type": "stream",
     "text": [
      "angry completed\n",
      "disgust completed\n",
      "fear completed\n",
      "happy completed\n",
      "neutral completed\n",
      "sad completed\n",
      "surprise completed\n"
     ]
    }
   ],
   "source": [
    "train = pd.DataFrame()\n",
    "train['image'], train['label'] = createdataframe(TRAIN_DIR)"
   ]
  },
  {
   "cell_type": "code",
   "execution_count": 5,
   "id": "c8a0cd29",
   "metadata": {},
   "outputs": [
    {
     "name": "stdout",
     "output_type": "stream",
     "text": [
      "                                image     label\n",
      "0            images/train\\angry\\0.jpg     angry\n",
      "1            images/train\\angry\\1.jpg     angry\n",
      "2           images/train\\angry\\10.jpg     angry\n",
      "3        images/train\\angry\\10002.jpg     angry\n",
      "4        images/train\\angry\\10016.jpg     angry\n",
      "...                               ...       ...\n",
      "28816  images/train\\surprise\\9969.jpg  surprise\n",
      "28817  images/train\\surprise\\9985.jpg  surprise\n",
      "28818  images/train\\surprise\\9990.jpg  surprise\n",
      "28819  images/train\\surprise\\9992.jpg  surprise\n",
      "28820  images/train\\surprise\\9996.jpg  surprise\n",
      "\n",
      "[28821 rows x 2 columns]\n"
     ]
    }
   ],
   "source": [
    "print(train)"
   ]
  },
  {
   "cell_type": "code",
   "execution_count": 6,
   "id": "7f9688fc",
   "metadata": {},
   "outputs": [
    {
     "name": "stdout",
     "output_type": "stream",
     "text": [
      "angry completed\n",
      "disgust completed\n",
      "fear completed\n",
      "happy completed\n",
      "neutral completed\n",
      "sad completed\n",
      "surprise completed\n"
     ]
    }
   ],
   "source": [
    "test = pd.DataFrame()\n",
    "test['image'], test['label'] = createdataframe(TEST_DIR)"
   ]
  },
  {
   "cell_type": "code",
   "execution_count": 7,
   "id": "7f504f5d",
   "metadata": {},
   "outputs": [
    {
     "name": "stdout",
     "output_type": "stream",
     "text": [
      "                              image     label\n",
      "0       images/test\\angry\\10052.jpg     angry\n",
      "1       images/test\\angry\\10065.jpg     angry\n",
      "2       images/test\\angry\\10079.jpg     angry\n",
      "3       images/test\\angry\\10095.jpg     angry\n",
      "4       images/test\\angry\\10121.jpg     angry\n",
      "...                             ...       ...\n",
      "7061  images/test\\surprise\\9806.jpg  surprise\n",
      "7062  images/test\\surprise\\9830.jpg  surprise\n",
      "7063  images/test\\surprise\\9853.jpg  surprise\n",
      "7064  images/test\\surprise\\9878.jpg  surprise\n",
      "7065   images/test\\surprise\\993.jpg  surprise\n",
      "\n",
      "[7066 rows x 2 columns]\n",
      "0         images/test\\angry\\10052.jpg\n",
      "1         images/test\\angry\\10065.jpg\n",
      "2         images/test\\angry\\10079.jpg\n",
      "3         images/test\\angry\\10095.jpg\n",
      "4         images/test\\angry\\10121.jpg\n",
      "                    ...              \n",
      "7061    images/test\\surprise\\9806.jpg\n",
      "7062    images/test\\surprise\\9830.jpg\n",
      "7063    images/test\\surprise\\9853.jpg\n",
      "7064    images/test\\surprise\\9878.jpg\n",
      "7065     images/test\\surprise\\993.jpg\n",
      "Name: image, Length: 7066, dtype: object\n"
     ]
    }
   ],
   "source": [
    "print(test)\n",
    "print(test['image'])"
   ]
  },
  {
   "cell_type": "code",
   "execution_count": 8,
   "id": "693324b0",
   "metadata": {},
   "outputs": [],
   "source": [
    "from tqdm.notebook import tqdm"
   ]
  },
  {
   "cell_type": "code",
   "execution_count": 9,
   "id": "f52ccbbe",
   "metadata": {},
   "outputs": [],
   "source": [
    "def extract_features(images):\n",
    "    features = []\n",
    "    for image in tqdm(images):\n",
    "        img = load_img(image,grayscale =  True )\n",
    "        img = np.array(img)\n",
    "        features.append(img)\n",
    "    features = np.array(features)\n",
    "    features = features.reshape(len(features),48,48,1)\n",
    "    return features\n",
    "    "
   ]
  },
  {
   "cell_type": "code",
   "execution_count": 11,
   "id": "942a9d40",
   "metadata": {},
   "outputs": [
    {
     "data": {
      "application/vnd.jupyter.widget-view+json": {
       "model_id": "8be3d69674774a9abbde0e7f2eec131f",
       "version_major": 2,
       "version_minor": 0
      },
      "text/plain": [
       "  0%|          | 0/28821 [00:00<?, ?it/s]"
      ]
     },
     "metadata": {},
     "output_type": "display_data"
    }
   ],
   "source": [
    "train_features = extract_features(train['image']) "
   ]
  },
  {
   "cell_type": "code",
   "execution_count": 12,
   "id": "c1b294ed",
   "metadata": {},
   "outputs": [
    {
     "data": {
      "application/vnd.jupyter.widget-view+json": {
       "model_id": "3c0b31bcc2284f56867c1f25aa03697b",
       "version_major": 2,
       "version_minor": 0
      },
      "text/plain": [
       "  0%|          | 0/7066 [00:00<?, ?it/s]"
      ]
     },
     "metadata": {},
     "output_type": "display_data"
    }
   ],
   "source": [
    "test_features = extract_features(test['image'])"
   ]
  },
  {
   "cell_type": "code",
   "execution_count": 13,
   "id": "f78b5d34",
   "metadata": {},
   "outputs": [],
   "source": [
    "x_train = train_features/255.0\n",
    "x_test = test_features/255.0"
   ]
  },
  {
   "cell_type": "code",
   "execution_count": 14,
   "id": "c660fca1",
   "metadata": {},
   "outputs": [],
   "source": [
    "from sklearn.preprocessing import LabelEncoder"
   ]
  },
  {
   "cell_type": "code",
   "execution_count": 15,
   "id": "5384a25b",
   "metadata": {},
   "outputs": [
    {
     "data": {
      "text/html": [
       "<style>#sk-container-id-1 {\n",
       "  /* Definition of color scheme common for light and dark mode */\n",
       "  --sklearn-color-text: black;\n",
       "  --sklearn-color-line: gray;\n",
       "  /* Definition of color scheme for unfitted estimators */\n",
       "  --sklearn-color-unfitted-level-0: #fff5e6;\n",
       "  --sklearn-color-unfitted-level-1: #f6e4d2;\n",
       "  --sklearn-color-unfitted-level-2: #ffe0b3;\n",
       "  --sklearn-color-unfitted-level-3: chocolate;\n",
       "  /* Definition of color scheme for fitted estimators */\n",
       "  --sklearn-color-fitted-level-0: #f0f8ff;\n",
       "  --sklearn-color-fitted-level-1: #d4ebff;\n",
       "  --sklearn-color-fitted-level-2: #b3dbfd;\n",
       "  --sklearn-color-fitted-level-3: cornflowerblue;\n",
       "\n",
       "  /* Specific color for light theme */\n",
       "  --sklearn-color-text-on-default-background: var(--sg-text-color, var(--theme-code-foreground, var(--jp-content-font-color1, black)));\n",
       "  --sklearn-color-background: var(--sg-background-color, var(--theme-background, var(--jp-layout-color0, white)));\n",
       "  --sklearn-color-border-box: var(--sg-text-color, var(--theme-code-foreground, var(--jp-content-font-color1, black)));\n",
       "  --sklearn-color-icon: #696969;\n",
       "\n",
       "  @media (prefers-color-scheme: dark) {\n",
       "    /* Redefinition of color scheme for dark theme */\n",
       "    --sklearn-color-text-on-default-background: var(--sg-text-color, var(--theme-code-foreground, var(--jp-content-font-color1, white)));\n",
       "    --sklearn-color-background: var(--sg-background-color, var(--theme-background, var(--jp-layout-color0, #111)));\n",
       "    --sklearn-color-border-box: var(--sg-text-color, var(--theme-code-foreground, var(--jp-content-font-color1, white)));\n",
       "    --sklearn-color-icon: #878787;\n",
       "  }\n",
       "}\n",
       "\n",
       "#sk-container-id-1 {\n",
       "  color: var(--sklearn-color-text);\n",
       "}\n",
       "\n",
       "#sk-container-id-1 pre {\n",
       "  padding: 0;\n",
       "}\n",
       "\n",
       "#sk-container-id-1 input.sk-hidden--visually {\n",
       "  border: 0;\n",
       "  clip: rect(1px 1px 1px 1px);\n",
       "  clip: rect(1px, 1px, 1px, 1px);\n",
       "  height: 1px;\n",
       "  margin: -1px;\n",
       "  overflow: hidden;\n",
       "  padding: 0;\n",
       "  position: absolute;\n",
       "  width: 1px;\n",
       "}\n",
       "\n",
       "#sk-container-id-1 div.sk-dashed-wrapped {\n",
       "  border: 1px dashed var(--sklearn-color-line);\n",
       "  margin: 0 0.4em 0.5em 0.4em;\n",
       "  box-sizing: border-box;\n",
       "  padding-bottom: 0.4em;\n",
       "  background-color: var(--sklearn-color-background);\n",
       "}\n",
       "\n",
       "#sk-container-id-1 div.sk-container {\n",
       "  /* jupyter's `normalize.less` sets `[hidden] { display: none; }`\n",
       "     but bootstrap.min.css set `[hidden] { display: none !important; }`\n",
       "     so we also need the `!important` here to be able to override the\n",
       "     default hidden behavior on the sphinx rendered scikit-learn.org.\n",
       "     See: https://github.com/scikit-learn/scikit-learn/issues/21755 */\n",
       "  display: inline-block !important;\n",
       "  position: relative;\n",
       "}\n",
       "\n",
       "#sk-container-id-1 div.sk-text-repr-fallback {\n",
       "  display: none;\n",
       "}\n",
       "\n",
       "div.sk-parallel-item,\n",
       "div.sk-serial,\n",
       "div.sk-item {\n",
       "  /* draw centered vertical line to link estimators */\n",
       "  background-image: linear-gradient(var(--sklearn-color-text-on-default-background), var(--sklearn-color-text-on-default-background));\n",
       "  background-size: 2px 100%;\n",
       "  background-repeat: no-repeat;\n",
       "  background-position: center center;\n",
       "}\n",
       "\n",
       "/* Parallel-specific style estimator block */\n",
       "\n",
       "#sk-container-id-1 div.sk-parallel-item::after {\n",
       "  content: \"\";\n",
       "  width: 100%;\n",
       "  border-bottom: 2px solid var(--sklearn-color-text-on-default-background);\n",
       "  flex-grow: 1;\n",
       "}\n",
       "\n",
       "#sk-container-id-1 div.sk-parallel {\n",
       "  display: flex;\n",
       "  align-items: stretch;\n",
       "  justify-content: center;\n",
       "  background-color: var(--sklearn-color-background);\n",
       "  position: relative;\n",
       "}\n",
       "\n",
       "#sk-container-id-1 div.sk-parallel-item {\n",
       "  display: flex;\n",
       "  flex-direction: column;\n",
       "}\n",
       "\n",
       "#sk-container-id-1 div.sk-parallel-item:first-child::after {\n",
       "  align-self: flex-end;\n",
       "  width: 50%;\n",
       "}\n",
       "\n",
       "#sk-container-id-1 div.sk-parallel-item:last-child::after {\n",
       "  align-self: flex-start;\n",
       "  width: 50%;\n",
       "}\n",
       "\n",
       "#sk-container-id-1 div.sk-parallel-item:only-child::after {\n",
       "  width: 0;\n",
       "}\n",
       "\n",
       "/* Serial-specific style estimator block */\n",
       "\n",
       "#sk-container-id-1 div.sk-serial {\n",
       "  display: flex;\n",
       "  flex-direction: column;\n",
       "  align-items: center;\n",
       "  background-color: var(--sklearn-color-background);\n",
       "  padding-right: 1em;\n",
       "  padding-left: 1em;\n",
       "}\n",
       "\n",
       "\n",
       "/* Toggleable style: style used for estimator/Pipeline/ColumnTransformer box that is\n",
       "clickable and can be expanded/collapsed.\n",
       "- Pipeline and ColumnTransformer use this feature and define the default style\n",
       "- Estimators will overwrite some part of the style using the `sk-estimator` class\n",
       "*/\n",
       "\n",
       "/* Pipeline and ColumnTransformer style (default) */\n",
       "\n",
       "#sk-container-id-1 div.sk-toggleable {\n",
       "  /* Default theme specific background. It is overwritten whether we have a\n",
       "  specific estimator or a Pipeline/ColumnTransformer */\n",
       "  background-color: var(--sklearn-color-background);\n",
       "}\n",
       "\n",
       "/* Toggleable label */\n",
       "#sk-container-id-1 label.sk-toggleable__label {\n",
       "  cursor: pointer;\n",
       "  display: block;\n",
       "  width: 100%;\n",
       "  margin-bottom: 0;\n",
       "  padding: 0.5em;\n",
       "  box-sizing: border-box;\n",
       "  text-align: center;\n",
       "}\n",
       "\n",
       "#sk-container-id-1 label.sk-toggleable__label-arrow:before {\n",
       "  /* Arrow on the left of the label */\n",
       "  content: \"▸\";\n",
       "  float: left;\n",
       "  margin-right: 0.25em;\n",
       "  color: var(--sklearn-color-icon);\n",
       "}\n",
       "\n",
       "#sk-container-id-1 label.sk-toggleable__label-arrow:hover:before {\n",
       "  color: var(--sklearn-color-text);\n",
       "}\n",
       "\n",
       "/* Toggleable content - dropdown */\n",
       "\n",
       "#sk-container-id-1 div.sk-toggleable__content {\n",
       "  max-height: 0;\n",
       "  max-width: 0;\n",
       "  overflow: hidden;\n",
       "  text-align: left;\n",
       "  /* unfitted */\n",
       "  background-color: var(--sklearn-color-unfitted-level-0);\n",
       "}\n",
       "\n",
       "#sk-container-id-1 div.sk-toggleable__content.fitted {\n",
       "  /* fitted */\n",
       "  background-color: var(--sklearn-color-fitted-level-0);\n",
       "}\n",
       "\n",
       "#sk-container-id-1 div.sk-toggleable__content pre {\n",
       "  margin: 0.2em;\n",
       "  border-radius: 0.25em;\n",
       "  color: var(--sklearn-color-text);\n",
       "  /* unfitted */\n",
       "  background-color: var(--sklearn-color-unfitted-level-0);\n",
       "}\n",
       "\n",
       "#sk-container-id-1 div.sk-toggleable__content.fitted pre {\n",
       "  /* unfitted */\n",
       "  background-color: var(--sklearn-color-fitted-level-0);\n",
       "}\n",
       "\n",
       "#sk-container-id-1 input.sk-toggleable__control:checked~div.sk-toggleable__content {\n",
       "  /* Expand drop-down */\n",
       "  max-height: 200px;\n",
       "  max-width: 100%;\n",
       "  overflow: auto;\n",
       "}\n",
       "\n",
       "#sk-container-id-1 input.sk-toggleable__control:checked~label.sk-toggleable__label-arrow:before {\n",
       "  content: \"▾\";\n",
       "}\n",
       "\n",
       "/* Pipeline/ColumnTransformer-specific style */\n",
       "\n",
       "#sk-container-id-1 div.sk-label input.sk-toggleable__control:checked~label.sk-toggleable__label {\n",
       "  color: var(--sklearn-color-text);\n",
       "  background-color: var(--sklearn-color-unfitted-level-2);\n",
       "}\n",
       "\n",
       "#sk-container-id-1 div.sk-label.fitted input.sk-toggleable__control:checked~label.sk-toggleable__label {\n",
       "  background-color: var(--sklearn-color-fitted-level-2);\n",
       "}\n",
       "\n",
       "/* Estimator-specific style */\n",
       "\n",
       "/* Colorize estimator box */\n",
       "#sk-container-id-1 div.sk-estimator input.sk-toggleable__control:checked~label.sk-toggleable__label {\n",
       "  /* unfitted */\n",
       "  background-color: var(--sklearn-color-unfitted-level-2);\n",
       "}\n",
       "\n",
       "#sk-container-id-1 div.sk-estimator.fitted input.sk-toggleable__control:checked~label.sk-toggleable__label {\n",
       "  /* fitted */\n",
       "  background-color: var(--sklearn-color-fitted-level-2);\n",
       "}\n",
       "\n",
       "#sk-container-id-1 div.sk-label label.sk-toggleable__label,\n",
       "#sk-container-id-1 div.sk-label label {\n",
       "  /* The background is the default theme color */\n",
       "  color: var(--sklearn-color-text-on-default-background);\n",
       "}\n",
       "\n",
       "/* On hover, darken the color of the background */\n",
       "#sk-container-id-1 div.sk-label:hover label.sk-toggleable__label {\n",
       "  color: var(--sklearn-color-text);\n",
       "  background-color: var(--sklearn-color-unfitted-level-2);\n",
       "}\n",
       "\n",
       "/* Label box, darken color on hover, fitted */\n",
       "#sk-container-id-1 div.sk-label.fitted:hover label.sk-toggleable__label.fitted {\n",
       "  color: var(--sklearn-color-text);\n",
       "  background-color: var(--sklearn-color-fitted-level-2);\n",
       "}\n",
       "\n",
       "/* Estimator label */\n",
       "\n",
       "#sk-container-id-1 div.sk-label label {\n",
       "  font-family: monospace;\n",
       "  font-weight: bold;\n",
       "  display: inline-block;\n",
       "  line-height: 1.2em;\n",
       "}\n",
       "\n",
       "#sk-container-id-1 div.sk-label-container {\n",
       "  text-align: center;\n",
       "}\n",
       "\n",
       "/* Estimator-specific */\n",
       "#sk-container-id-1 div.sk-estimator {\n",
       "  font-family: monospace;\n",
       "  border: 1px dotted var(--sklearn-color-border-box);\n",
       "  border-radius: 0.25em;\n",
       "  box-sizing: border-box;\n",
       "  margin-bottom: 0.5em;\n",
       "  /* unfitted */\n",
       "  background-color: var(--sklearn-color-unfitted-level-0);\n",
       "}\n",
       "\n",
       "#sk-container-id-1 div.sk-estimator.fitted {\n",
       "  /* fitted */\n",
       "  background-color: var(--sklearn-color-fitted-level-0);\n",
       "}\n",
       "\n",
       "/* on hover */\n",
       "#sk-container-id-1 div.sk-estimator:hover {\n",
       "  /* unfitted */\n",
       "  background-color: var(--sklearn-color-unfitted-level-2);\n",
       "}\n",
       "\n",
       "#sk-container-id-1 div.sk-estimator.fitted:hover {\n",
       "  /* fitted */\n",
       "  background-color: var(--sklearn-color-fitted-level-2);\n",
       "}\n",
       "\n",
       "/* Specification for estimator info (e.g. \"i\" and \"?\") */\n",
       "\n",
       "/* Common style for \"i\" and \"?\" */\n",
       "\n",
       ".sk-estimator-doc-link,\n",
       "a:link.sk-estimator-doc-link,\n",
       "a:visited.sk-estimator-doc-link {\n",
       "  float: right;\n",
       "  font-size: smaller;\n",
       "  line-height: 1em;\n",
       "  font-family: monospace;\n",
       "  background-color: var(--sklearn-color-background);\n",
       "  border-radius: 1em;\n",
       "  height: 1em;\n",
       "  width: 1em;\n",
       "  text-decoration: none !important;\n",
       "  margin-left: 1ex;\n",
       "  /* unfitted */\n",
       "  border: var(--sklearn-color-unfitted-level-1) 1pt solid;\n",
       "  color: var(--sklearn-color-unfitted-level-1);\n",
       "}\n",
       "\n",
       ".sk-estimator-doc-link.fitted,\n",
       "a:link.sk-estimator-doc-link.fitted,\n",
       "a:visited.sk-estimator-doc-link.fitted {\n",
       "  /* fitted */\n",
       "  border: var(--sklearn-color-fitted-level-1) 1pt solid;\n",
       "  color: var(--sklearn-color-fitted-level-1);\n",
       "}\n",
       "\n",
       "/* On hover */\n",
       "div.sk-estimator:hover .sk-estimator-doc-link:hover,\n",
       ".sk-estimator-doc-link:hover,\n",
       "div.sk-label-container:hover .sk-estimator-doc-link:hover,\n",
       ".sk-estimator-doc-link:hover {\n",
       "  /* unfitted */\n",
       "  background-color: var(--sklearn-color-unfitted-level-3);\n",
       "  color: var(--sklearn-color-background);\n",
       "  text-decoration: none;\n",
       "}\n",
       "\n",
       "div.sk-estimator.fitted:hover .sk-estimator-doc-link.fitted:hover,\n",
       ".sk-estimator-doc-link.fitted:hover,\n",
       "div.sk-label-container:hover .sk-estimator-doc-link.fitted:hover,\n",
       ".sk-estimator-doc-link.fitted:hover {\n",
       "  /* fitted */\n",
       "  background-color: var(--sklearn-color-fitted-level-3);\n",
       "  color: var(--sklearn-color-background);\n",
       "  text-decoration: none;\n",
       "}\n",
       "\n",
       "/* Span, style for the box shown on hovering the info icon */\n",
       ".sk-estimator-doc-link span {\n",
       "  display: none;\n",
       "  z-index: 9999;\n",
       "  position: relative;\n",
       "  font-weight: normal;\n",
       "  right: .2ex;\n",
       "  padding: .5ex;\n",
       "  margin: .5ex;\n",
       "  width: min-content;\n",
       "  min-width: 20ex;\n",
       "  max-width: 50ex;\n",
       "  color: var(--sklearn-color-text);\n",
       "  box-shadow: 2pt 2pt 4pt #999;\n",
       "  /* unfitted */\n",
       "  background: var(--sklearn-color-unfitted-level-0);\n",
       "  border: .5pt solid var(--sklearn-color-unfitted-level-3);\n",
       "}\n",
       "\n",
       ".sk-estimator-doc-link.fitted span {\n",
       "  /* fitted */\n",
       "  background: var(--sklearn-color-fitted-level-0);\n",
       "  border: var(--sklearn-color-fitted-level-3);\n",
       "}\n",
       "\n",
       ".sk-estimator-doc-link:hover span {\n",
       "  display: block;\n",
       "}\n",
       "\n",
       "/* \"?\"-specific style due to the `<a>` HTML tag */\n",
       "\n",
       "#sk-container-id-1 a.estimator_doc_link {\n",
       "  float: right;\n",
       "  font-size: 1rem;\n",
       "  line-height: 1em;\n",
       "  font-family: monospace;\n",
       "  background-color: var(--sklearn-color-background);\n",
       "  border-radius: 1rem;\n",
       "  height: 1rem;\n",
       "  width: 1rem;\n",
       "  text-decoration: none;\n",
       "  /* unfitted */\n",
       "  color: var(--sklearn-color-unfitted-level-1);\n",
       "  border: var(--sklearn-color-unfitted-level-1) 1pt solid;\n",
       "}\n",
       "\n",
       "#sk-container-id-1 a.estimator_doc_link.fitted {\n",
       "  /* fitted */\n",
       "  border: var(--sklearn-color-fitted-level-1) 1pt solid;\n",
       "  color: var(--sklearn-color-fitted-level-1);\n",
       "}\n",
       "\n",
       "/* On hover */\n",
       "#sk-container-id-1 a.estimator_doc_link:hover {\n",
       "  /* unfitted */\n",
       "  background-color: var(--sklearn-color-unfitted-level-3);\n",
       "  color: var(--sklearn-color-background);\n",
       "  text-decoration: none;\n",
       "}\n",
       "\n",
       "#sk-container-id-1 a.estimator_doc_link.fitted:hover {\n",
       "  /* fitted */\n",
       "  background-color: var(--sklearn-color-fitted-level-3);\n",
       "}\n",
       "</style><div id=\"sk-container-id-1\" class=\"sk-top-container\"><div class=\"sk-text-repr-fallback\"><pre>LabelEncoder()</pre><b>In a Jupyter environment, please rerun this cell to show the HTML representation or trust the notebook. <br />On GitHub, the HTML representation is unable to render, please try loading this page with nbviewer.org.</b></div><div class=\"sk-container\" hidden><div class=\"sk-item\"><div class=\"sk-estimator fitted sk-toggleable\"><input class=\"sk-toggleable__control sk-hidden--visually\" id=\"sk-estimator-id-1\" type=\"checkbox\" checked><label for=\"sk-estimator-id-1\" class=\"sk-toggleable__label fitted sk-toggleable__label-arrow fitted\">&nbsp;&nbsp;LabelEncoder<a class=\"sk-estimator-doc-link fitted\" rel=\"noreferrer\" target=\"_blank\" href=\"https://scikit-learn.org/1.5/modules/generated/sklearn.preprocessing.LabelEncoder.html\">?<span>Documentation for LabelEncoder</span></a><span class=\"sk-estimator-doc-link fitted\">i<span>Fitted</span></span></label><div class=\"sk-toggleable__content fitted\"><pre>LabelEncoder()</pre></div> </div></div></div></div>"
      ],
      "text/plain": [
       "LabelEncoder()"
      ]
     },
     "execution_count": 15,
     "metadata": {},
     "output_type": "execute_result"
    }
   ],
   "source": [
    "le = LabelEncoder()\n",
    "le.fit(train['label'])"
   ]
  },
  {
   "cell_type": "code",
   "execution_count": 16,
   "id": "50ece229",
   "metadata": {},
   "outputs": [],
   "source": [
    "y_train = le.transform(train['label'])\n",
    "y_test = le.transform(test['label'])"
   ]
  },
  {
   "cell_type": "code",
   "execution_count": 17,
   "id": "5e284299",
   "metadata": {},
   "outputs": [],
   "source": [
    "y_train = to_categorical(y_train,num_classes = 7)\n",
    "y_test = to_categorical(y_test,num_classes = 7)"
   ]
  },
  {
   "cell_type": "code",
   "execution_count": 18,
   "id": "3977223a",
   "metadata": {},
   "outputs": [],
   "source": [
    "model = Sequential()\n",
    "# convolutional layers\n",
    "model.add(Conv2D(128, kernel_size=(3,3), activation='relu', input_shape=(48,48,1)))\n",
    "model.add(MaxPooling2D(pool_size=(2,2)))\n",
    "model.add(Dropout(0.4))\n",
    "\n",
    "model.add(Conv2D(256, kernel_size=(3,3), activation='relu'))\n",
    "model.add(MaxPooling2D(pool_size=(2,2)))\n",
    "model.add(Dropout(0.4))\n",
    "\n",
    "model.add(Conv2D(512, kernel_size=(3,3), activation='relu'))\n",
    "model.add(MaxPooling2D(pool_size=(2,2)))\n",
    "model.add(Dropout(0.4))\n",
    "\n",
    "model.add(Conv2D(512, kernel_size=(3,3), activation='relu'))\n",
    "model.add(MaxPooling2D(pool_size=(2,2)))\n",
    "model.add(Dropout(0.4))\n",
    "\n",
    "model.add(Flatten())\n",
    "# fully connected layers\n",
    "model.add(Dense(512, activation='relu'))\n",
    "model.add(Dropout(0.4))\n",
    "model.add(Dense(256, activation='relu'))\n",
    "model.add(Dropout(0.3))\n",
    "# output layer\n",
    "model.add(Dense(7, activation='softmax'))"
   ]
  },
  {
   "cell_type": "code",
   "execution_count": 19,
   "id": "de986d6e",
   "metadata": {},
   "outputs": [],
   "source": [
    "model.compile(optimizer = 'adam', loss = 'categorical_crossentropy', metrics = 'accuracy' )"
   ]
  },
  {
   "cell_type": "code",
   "execution_count": 20,
   "id": "5cd0b130",
   "metadata": {},
   "outputs": [
    {
     "name": "stdout",
     "output_type": "stream",
     "text": [
      "Epoch 1/100\n",
      "226/226 [==============================] - 179s 789ms/step - loss: 1.8257 - accuracy: 0.2435 - val_loss: 1.8147 - val_accuracy: 0.2583\n",
      "Epoch 2/100\n",
      "226/226 [==============================] - 159s 704ms/step - loss: 1.8114 - accuracy: 0.2496 - val_loss: 1.7858 - val_accuracy: 0.2615\n",
      "Epoch 3/100\n",
      "226/226 [==============================] - 159s 705ms/step - loss: 1.7732 - accuracy: 0.2643 - val_loss: 1.6848 - val_accuracy: 0.3060\n",
      "Epoch 4/100\n",
      "226/226 [==============================] - 159s 703ms/step - loss: 1.6740 - accuracy: 0.3214 - val_loss: 1.5388 - val_accuracy: 0.3954\n",
      "Epoch 5/100\n",
      "226/226 [==============================] - 159s 704ms/step - loss: 1.5489 - accuracy: 0.3914 - val_loss: 1.4023 - val_accuracy: 0.4663\n",
      "Epoch 6/100\n",
      "226/226 [==============================] - 159s 704ms/step - loss: 1.4666 - accuracy: 0.4297 - val_loss: 1.3588 - val_accuracy: 0.4742\n",
      "Epoch 7/100\n",
      "226/226 [==============================] - 158s 697ms/step - loss: 1.4130 - accuracy: 0.4507 - val_loss: 1.3090 - val_accuracy: 0.4929\n",
      "Epoch 8/100\n",
      "226/226 [==============================] - 160s 707ms/step - loss: 1.3747 - accuracy: 0.4718 - val_loss: 1.2523 - val_accuracy: 0.5157\n",
      "Epoch 9/100\n",
      "226/226 [==============================] - 158s 701ms/step - loss: 1.3351 - accuracy: 0.4871 - val_loss: 1.2365 - val_accuracy: 0.5214\n",
      "Epoch 10/100\n",
      "226/226 [==============================] - 159s 704ms/step - loss: 1.3151 - accuracy: 0.4953 - val_loss: 1.2082 - val_accuracy: 0.5376\n",
      "Epoch 11/100\n",
      "226/226 [==============================] - 160s 706ms/step - loss: 1.2914 - accuracy: 0.5074 - val_loss: 1.1871 - val_accuracy: 0.5538\n",
      "Epoch 12/100\n",
      "226/226 [==============================] - 160s 707ms/step - loss: 1.2727 - accuracy: 0.5155 - val_loss: 1.1720 - val_accuracy: 0.5579\n",
      "Epoch 13/100\n",
      "226/226 [==============================] - 159s 703ms/step - loss: 1.2568 - accuracy: 0.5217 - val_loss: 1.1640 - val_accuracy: 0.5560\n",
      "Epoch 14/100\n",
      "226/226 [==============================] - 161s 711ms/step - loss: 1.2428 - accuracy: 0.5259 - val_loss: 1.1452 - val_accuracy: 0.5657\n",
      "Epoch 15/100\n",
      "226/226 [==============================] - 160s 706ms/step - loss: 1.2246 - accuracy: 0.5358 - val_loss: 1.1526 - val_accuracy: 0.5590\n",
      "Epoch 16/100\n",
      "226/226 [==============================] - 159s 703ms/step - loss: 1.2040 - accuracy: 0.5427 - val_loss: 1.1297 - val_accuracy: 0.5706\n",
      "Epoch 17/100\n",
      "226/226 [==============================] - 157s 696ms/step - loss: 1.2036 - accuracy: 0.5460 - val_loss: 1.1375 - val_accuracy: 0.5763\n",
      "Epoch 18/100\n",
      "226/226 [==============================] - 159s 703ms/step - loss: 1.1814 - accuracy: 0.5562 - val_loss: 1.1104 - val_accuracy: 0.5815\n",
      "Epoch 19/100\n",
      "226/226 [==============================] - 159s 704ms/step - loss: 1.1704 - accuracy: 0.5564 - val_loss: 1.0999 - val_accuracy: 0.5862\n",
      "Epoch 20/100\n",
      "226/226 [==============================] - 160s 706ms/step - loss: 1.1566 - accuracy: 0.5625 - val_loss: 1.0926 - val_accuracy: 0.5882\n",
      "Epoch 21/100\n",
      "226/226 [==============================] - 158s 701ms/step - loss: 1.1529 - accuracy: 0.5590 - val_loss: 1.0989 - val_accuracy: 0.5829\n",
      "Epoch 22/100\n",
      "226/226 [==============================] - 159s 705ms/step - loss: 1.1390 - accuracy: 0.5659 - val_loss: 1.0888 - val_accuracy: 0.5977\n",
      "Epoch 23/100\n",
      "226/226 [==============================] - 159s 703ms/step - loss: 1.1259 - accuracy: 0.5705 - val_loss: 1.0750 - val_accuracy: 0.5962\n",
      "Epoch 24/100\n",
      "226/226 [==============================] - 157s 696ms/step - loss: 1.1241 - accuracy: 0.5754 - val_loss: 1.0938 - val_accuracy: 0.5909\n",
      "Epoch 25/100\n",
      "226/226 [==============================] - 158s 700ms/step - loss: 1.1128 - accuracy: 0.5785 - val_loss: 1.0820 - val_accuracy: 0.5923\n",
      "Epoch 26/100\n",
      "226/226 [==============================] - 158s 699ms/step - loss: 1.1048 - accuracy: 0.5804 - val_loss: 1.0727 - val_accuracy: 0.5943\n",
      "Epoch 27/100\n",
      "226/226 [==============================] - 158s 698ms/step - loss: 1.0931 - accuracy: 0.5876 - val_loss: 1.0599 - val_accuracy: 0.6027\n",
      "Epoch 28/100\n",
      "226/226 [==============================] - 162s 717ms/step - loss: 1.0876 - accuracy: 0.5900 - val_loss: 1.0708 - val_accuracy: 0.6008\n",
      "Epoch 29/100\n",
      "226/226 [==============================] - 157s 695ms/step - loss: 1.0765 - accuracy: 0.5930 - val_loss: 1.0832 - val_accuracy: 0.5910\n",
      "Epoch 30/100\n",
      "226/226 [==============================] - 156s 690ms/step - loss: 1.0698 - accuracy: 0.5966 - val_loss: 1.0621 - val_accuracy: 0.6050\n",
      "Epoch 31/100\n",
      "226/226 [==============================] - 154s 680ms/step - loss: 1.0675 - accuracy: 0.5965 - val_loss: 1.0730 - val_accuracy: 0.5961\n",
      "Epoch 32/100\n",
      "226/226 [==============================] - 155s 685ms/step - loss: 1.0647 - accuracy: 0.5980 - val_loss: 1.0604 - val_accuracy: 0.6078\n",
      "Epoch 33/100\n",
      "226/226 [==============================] - 154s 680ms/step - loss: 1.0467 - accuracy: 0.6049 - val_loss: 1.0625 - val_accuracy: 0.6061\n",
      "Epoch 34/100\n",
      "226/226 [==============================] - 154s 680ms/step - loss: 1.0429 - accuracy: 0.6049 - val_loss: 1.0437 - val_accuracy: 0.6139\n",
      "Epoch 35/100\n",
      "226/226 [==============================] - 154s 681ms/step - loss: 1.0387 - accuracy: 0.6060 - val_loss: 1.0558 - val_accuracy: 0.6136\n",
      "Epoch 36/100\n",
      "226/226 [==============================] - 155s 687ms/step - loss: 1.0329 - accuracy: 0.6099 - val_loss: 1.0535 - val_accuracy: 0.6044\n",
      "Epoch 37/100\n",
      "226/226 [==============================] - 154s 683ms/step - loss: 1.0298 - accuracy: 0.6098 - val_loss: 1.0434 - val_accuracy: 0.6163\n",
      "Epoch 38/100\n",
      "226/226 [==============================] - 155s 686ms/step - loss: 1.0061 - accuracy: 0.6205 - val_loss: 1.0504 - val_accuracy: 0.6119\n",
      "Epoch 39/100\n",
      "226/226 [==============================] - 154s 681ms/step - loss: 1.0042 - accuracy: 0.6215 - val_loss: 1.0438 - val_accuracy: 0.6119\n",
      "Epoch 40/100\n",
      "226/226 [==============================] - 153s 679ms/step - loss: 1.0074 - accuracy: 0.6229 - val_loss: 1.0399 - val_accuracy: 0.6177\n",
      "Epoch 41/100\n",
      "226/226 [==============================] - 155s 688ms/step - loss: 0.9937 - accuracy: 0.6271 - val_loss: 1.0343 - val_accuracy: 0.6172\n",
      "Epoch 42/100\n",
      "226/226 [==============================] - 153s 679ms/step - loss: 0.9862 - accuracy: 0.6265 - val_loss: 1.0411 - val_accuracy: 0.6139\n",
      "Epoch 43/100\n",
      "226/226 [==============================] - 154s 683ms/step - loss: 0.9816 - accuracy: 0.6307 - val_loss: 1.0365 - val_accuracy: 0.6166\n",
      "Epoch 44/100\n",
      "226/226 [==============================] - 154s 683ms/step - loss: 0.9851 - accuracy: 0.6302 - val_loss: 1.0288 - val_accuracy: 0.6226\n",
      "Epoch 45/100\n",
      "226/226 [==============================] - 153s 677ms/step - loss: 0.9717 - accuracy: 0.6372 - val_loss: 1.0246 - val_accuracy: 0.6227\n",
      "Epoch 46/100\n",
      "226/226 [==============================] - 153s 679ms/step - loss: 0.9748 - accuracy: 0.6321 - val_loss: 1.0279 - val_accuracy: 0.6227\n",
      "Epoch 47/100\n",
      "226/226 [==============================] - 153s 678ms/step - loss: 0.9605 - accuracy: 0.6382 - val_loss: 1.0268 - val_accuracy: 0.6255\n",
      "Epoch 48/100\n",
      "226/226 [==============================] - 154s 681ms/step - loss: 0.9573 - accuracy: 0.6420 - val_loss: 1.0290 - val_accuracy: 0.6185\n",
      "Epoch 49/100\n",
      "226/226 [==============================] - 154s 680ms/step - loss: 0.9426 - accuracy: 0.6493 - val_loss: 1.0278 - val_accuracy: 0.6203\n",
      "Epoch 50/100\n",
      "226/226 [==============================] - 154s 682ms/step - loss: 0.9449 - accuracy: 0.6448 - val_loss: 1.0261 - val_accuracy: 0.6224\n",
      "Epoch 51/100\n",
      "226/226 [==============================] - 154s 682ms/step - loss: 0.9349 - accuracy: 0.6503 - val_loss: 1.0392 - val_accuracy: 0.6172\n",
      "Epoch 52/100\n",
      "226/226 [==============================] - 154s 681ms/step - loss: 0.9318 - accuracy: 0.6537 - val_loss: 1.0328 - val_accuracy: 0.6214\n",
      "Epoch 53/100\n",
      "226/226 [==============================] - 154s 680ms/step - loss: 0.9277 - accuracy: 0.6533 - val_loss: 1.0277 - val_accuracy: 0.6210\n",
      "Epoch 54/100\n",
      "226/226 [==============================] - 153s 679ms/step - loss: 0.9147 - accuracy: 0.6564 - val_loss: 1.0240 - val_accuracy: 0.6211\n",
      "Epoch 55/100\n",
      "226/226 [==============================] - 153s 679ms/step - loss: 0.9166 - accuracy: 0.6593 - val_loss: 1.0351 - val_accuracy: 0.6193\n",
      "Epoch 56/100\n",
      "226/226 [==============================] - 154s 680ms/step - loss: 0.9127 - accuracy: 0.6599 - val_loss: 1.0302 - val_accuracy: 0.6214\n",
      "Epoch 57/100\n",
      "226/226 [==============================] - 154s 683ms/step - loss: 0.9013 - accuracy: 0.6625 - val_loss: 1.0213 - val_accuracy: 0.6305\n",
      "Epoch 58/100\n",
      "226/226 [==============================] - 154s 680ms/step - loss: 0.8959 - accuracy: 0.6673 - val_loss: 1.0446 - val_accuracy: 0.6136\n",
      "Epoch 59/100\n",
      "226/226 [==============================] - 155s 685ms/step - loss: 0.8897 - accuracy: 0.6687 - val_loss: 1.0254 - val_accuracy: 0.6254\n",
      "Epoch 60/100\n",
      "226/226 [==============================] - 154s 681ms/step - loss: 0.8849 - accuracy: 0.6691 - val_loss: 1.0216 - val_accuracy: 0.6241\n",
      "Epoch 61/100\n",
      "226/226 [==============================] - 154s 681ms/step - loss: 0.8738 - accuracy: 0.6760 - val_loss: 1.0154 - val_accuracy: 0.6302\n",
      "Epoch 62/100\n",
      "226/226 [==============================] - 154s 680ms/step - loss: 0.8755 - accuracy: 0.6733 - val_loss: 1.0267 - val_accuracy: 0.6292\n",
      "Epoch 63/100\n",
      "226/226 [==============================] - 155s 684ms/step - loss: 0.8687 - accuracy: 0.6745 - val_loss: 1.0251 - val_accuracy: 0.6289\n",
      "Epoch 64/100\n",
      "226/226 [==============================] - 157s 694ms/step - loss: 0.8628 - accuracy: 0.6820 - val_loss: 1.0282 - val_accuracy: 0.6291\n",
      "Epoch 65/100\n",
      "226/226 [==============================] - 154s 684ms/step - loss: 0.8548 - accuracy: 0.6800 - val_loss: 1.0142 - val_accuracy: 0.6274\n",
      "Epoch 66/100\n",
      "226/226 [==============================] - 154s 684ms/step - loss: 0.8542 - accuracy: 0.6805 - val_loss: 1.0211 - val_accuracy: 0.6277\n",
      "Epoch 67/100\n",
      "226/226 [==============================] - 155s 686ms/step - loss: 0.8505 - accuracy: 0.6850 - val_loss: 1.0144 - val_accuracy: 0.6342\n",
      "Epoch 68/100\n",
      "226/226 [==============================] - 154s 681ms/step - loss: 0.8433 - accuracy: 0.6888 - val_loss: 1.0353 - val_accuracy: 0.6220\n",
      "Epoch 69/100\n",
      "226/226 [==============================] - 154s 681ms/step - loss: 0.8444 - accuracy: 0.6871 - val_loss: 1.0290 - val_accuracy: 0.6284\n",
      "Epoch 70/100\n",
      "226/226 [==============================] - 154s 680ms/step - loss: 0.8505 - accuracy: 0.6872 - val_loss: 1.0320 - val_accuracy: 0.6308\n",
      "Epoch 71/100\n",
      "226/226 [==============================] - 154s 683ms/step - loss: 0.8363 - accuracy: 0.6907 - val_loss: 1.0221 - val_accuracy: 0.6295\n",
      "Epoch 72/100\n",
      "226/226 [==============================] - 154s 682ms/step - loss: 0.8323 - accuracy: 0.6903 - val_loss: 1.0170 - val_accuracy: 0.6285\n",
      "Epoch 73/100\n",
      "226/226 [==============================] - 154s 680ms/step - loss: 0.8152 - accuracy: 0.6966 - val_loss: 1.0316 - val_accuracy: 0.6401\n",
      "Epoch 74/100\n",
      "226/226 [==============================] - 155s 685ms/step - loss: 0.8172 - accuracy: 0.7021 - val_loss: 1.0264 - val_accuracy: 0.6336\n",
      "Epoch 75/100\n",
      "226/226 [==============================] - 155s 684ms/step - loss: 0.8210 - accuracy: 0.6970 - val_loss: 1.0238 - val_accuracy: 0.6320\n",
      "Epoch 76/100\n",
      "226/226 [==============================] - 154s 682ms/step - loss: 0.8063 - accuracy: 0.7050 - val_loss: 1.0222 - val_accuracy: 0.6344\n",
      "Epoch 77/100\n",
      "226/226 [==============================] - 154s 680ms/step - loss: 0.8058 - accuracy: 0.7032 - val_loss: 1.0210 - val_accuracy: 0.6349\n",
      "Epoch 78/100\n",
      "226/226 [==============================] - 154s 680ms/step - loss: 0.8098 - accuracy: 0.7010 - val_loss: 1.0211 - val_accuracy: 0.6337\n",
      "Epoch 79/100\n",
      "226/226 [==============================] - 153s 678ms/step - loss: 0.8007 - accuracy: 0.7062 - val_loss: 1.0195 - val_accuracy: 0.6327\n",
      "Epoch 80/100\n",
      "226/226 [==============================] - 155s 687ms/step - loss: 0.8027 - accuracy: 0.7022 - val_loss: 1.0302 - val_accuracy: 0.6303\n",
      "Epoch 81/100\n",
      "226/226 [==============================] - 154s 681ms/step - loss: 0.7988 - accuracy: 0.7088 - val_loss: 1.0380 - val_accuracy: 0.6325\n",
      "Epoch 82/100\n",
      "226/226 [==============================] - 154s 682ms/step - loss: 0.7894 - accuracy: 0.7070 - val_loss: 1.0280 - val_accuracy: 0.6391\n",
      "Epoch 83/100\n",
      "226/226 [==============================] - 159s 704ms/step - loss: 0.7852 - accuracy: 0.7125 - val_loss: 1.0247 - val_accuracy: 0.6383\n",
      "Epoch 84/100\n",
      "226/226 [==============================] - 154s 682ms/step - loss: 0.7738 - accuracy: 0.7159 - val_loss: 1.0258 - val_accuracy: 0.6369\n",
      "Epoch 85/100\n",
      "226/226 [==============================] - 154s 681ms/step - loss: 0.7656 - accuracy: 0.7191 - val_loss: 1.0394 - val_accuracy: 0.6364\n",
      "Epoch 86/100\n",
      "226/226 [==============================] - 155s 688ms/step - loss: 0.7742 - accuracy: 0.7183 - val_loss: 1.0338 - val_accuracy: 0.6364\n",
      "Epoch 87/100\n",
      "226/226 [==============================] - 155s 685ms/step - loss: 0.7726 - accuracy: 0.7192 - val_loss: 1.0313 - val_accuracy: 0.6303\n",
      "Epoch 88/100\n",
      "226/226 [==============================] - 154s 682ms/step - loss: 0.7644 - accuracy: 0.7219 - val_loss: 1.0365 - val_accuracy: 0.6366\n",
      "Epoch 89/100\n",
      "226/226 [==============================] - 154s 683ms/step - loss: 0.7512 - accuracy: 0.7252 - val_loss: 1.0357 - val_accuracy: 0.6311\n",
      "Epoch 90/100\n",
      "226/226 [==============================] - 155s 684ms/step - loss: 0.7431 - accuracy: 0.7288 - val_loss: 1.0409 - val_accuracy: 0.6336\n",
      "Epoch 91/100\n",
      "226/226 [==============================] - 156s 691ms/step - loss: 0.7457 - accuracy: 0.7280 - val_loss: 1.0327 - val_accuracy: 0.6361\n",
      "Epoch 92/100\n",
      "226/226 [==============================] - 154s 682ms/step - loss: 0.7476 - accuracy: 0.7300 - val_loss: 1.0259 - val_accuracy: 0.6346\n",
      "Epoch 93/100\n",
      "226/226 [==============================] - 154s 682ms/step - loss: 0.7495 - accuracy: 0.7251 - val_loss: 1.0408 - val_accuracy: 0.6350\n",
      "Epoch 94/100\n",
      "226/226 [==============================] - 154s 680ms/step - loss: 0.7338 - accuracy: 0.7313 - val_loss: 1.0338 - val_accuracy: 0.6343\n",
      "Epoch 95/100\n",
      "226/226 [==============================] - 154s 682ms/step - loss: 0.7485 - accuracy: 0.7276 - val_loss: 1.0246 - val_accuracy: 0.6361\n",
      "Epoch 96/100\n",
      "226/226 [==============================] - 154s 683ms/step - loss: 0.7344 - accuracy: 0.7292 - val_loss: 1.0408 - val_accuracy: 0.6376\n",
      "Epoch 97/100\n",
      "226/226 [==============================] - 153s 679ms/step - loss: 0.7280 - accuracy: 0.7319 - val_loss: 1.0344 - val_accuracy: 0.6315\n",
      "Epoch 98/100\n",
      "226/226 [==============================] - 156s 691ms/step - loss: 0.7338 - accuracy: 0.7337 - val_loss: 1.0394 - val_accuracy: 0.6277\n",
      "Epoch 99/100\n",
      "226/226 [==============================] - 154s 680ms/step - loss: 0.7207 - accuracy: 0.7354 - val_loss: 1.0332 - val_accuracy: 0.6387\n",
      "Epoch 100/100\n",
      "226/226 [==============================] - 153s 678ms/step - loss: 0.7212 - accuracy: 0.7370 - val_loss: 1.0424 - val_accuracy: 0.6347\n"
     ]
    },
    {
     "data": {
      "text/plain": [
       "<keras.callbacks.History at 0x2a9fe5e32b0>"
      ]
     },
     "execution_count": 20,
     "metadata": {},
     "output_type": "execute_result"
    }
   ],
   "source": [
    "model.fit(x= x_train,y = y_train, batch_size = 128, epochs = 100, validation_data = (x_test,y_test)) "
   ]
  },
  {
   "cell_type": "code",
   "execution_count": 34,
   "id": "2b0f1923",
   "metadata": {},
   "outputs": [
    {
     "name": "stdout",
     "output_type": "stream",
     "text": [
      "WARNING:tensorflow:Compiled the loaded model, but the compiled metrics have yet to be built. `model.compile_metrics` will be empty until you train or evaluate the model.\n"
     ]
    }
   ],
   "source": [
    "model_json = model.to_json()\n",
    "with open(\"emotiondetector.json\",'w') as json_file:\n",
    "    json_file.write(model_json)\n",
    "model.save(\"emotiondetector.h5\")"
   ]
  },
  {
   "cell_type": "code",
   "execution_count": 35,
   "id": "46e2098e",
   "metadata": {},
   "outputs": [],
   "source": [
    "from keras.models import model_from_json"
   ]
  },
  {
   "cell_type": "code",
   "execution_count": 36,
   "id": "90703547",
   "metadata": {},
   "outputs": [],
   "source": [
    "json_file = open(\"emotiondetector.json\", \"r\")\n",
    "model_json = json_file.read()\n",
    "json_file.close()\n",
    "model = model_from_json(model_json)\n",
    "model.load_weights(\"emotiondetector.h5\")"
   ]
  },
  {
   "cell_type": "code",
   "execution_count": 37,
   "id": "3932bbe8",
   "metadata": {},
   "outputs": [],
   "source": [
    "label = ['angry','disgust','fear','happy','neutral','sad','surprise']"
   ]
  },
  {
   "cell_type": "code",
   "execution_count": 38,
   "id": "b0ccbacf",
   "metadata": {},
   "outputs": [],
   "source": [
    "def ef(image):\n",
    "    img = load_img(image,grayscale =  True )\n",
    "    feature = np.array(img)\n",
    "    feature = feature.reshape(1,48,48,1)\n",
    "    return feature/255.0\n",
    "    "
   ]
  },
  {
   "cell_type": "code",
   "execution_count": 39,
   "id": "5882c78e",
   "metadata": {},
   "outputs": [
    {
     "name": "stdout",
     "output_type": "stream",
     "text": [
      "original image is of sad\n",
      "1/1 [==============================] - 0s 229ms/step\n",
      "model prediction is  sad\n"
     ]
    }
   ],
   "source": [
    "image = 'images/train/sad/42.jpg'\n",
    "print(\"original image is of sad\")\n",
    "img = ef(image)\n",
    "pred = model.predict(img)\n",
    "pred_label = label[pred.argmax()]\n",
    "print(\"model prediction is \",pred_label)"
   ]
  },
  {
   "cell_type": "code",
   "execution_count": 40,
   "id": "8994206c",
   "metadata": {},
   "outputs": [],
   "source": [
    "import matplotlib.pyplot as plt\n",
    "%matplotlib inline"
   ]
  },
  {
   "cell_type": "code",
   "execution_count": 41,
   "id": "c83af9e1",
   "metadata": {},
   "outputs": [
    {
     "name": "stdout",
     "output_type": "stream",
     "text": [
      "original image is of sad\n",
      "1/1 [==============================] - 0s 50ms/step\n",
      "model prediction is  sad\n"
     ]
    },
    {
     "data": {
      "text/plain": [
       "<matplotlib.image.AxesImage at 0x2aa29942560>"
      ]
     },
     "execution_count": 41,
     "metadata": {},
     "output_type": "execute_result"
    }
   ],
   "source": [
    "image = 'images/train/sad/42.jpg'\n",
    "print(\"original image is of sad\")\n",
    "img = ef(image)\n",
    "pred = model.predict(img)\n",
    "pred_label = label[pred.argmax()]\n",
    "print(\"model prediction is \",pred_label)\n",
    "plt.imshow(img.reshape(48,48),cmap='gray')"
   ]
  },
  {
   "cell_type": "code",
   "execution_count": 42,
   "id": "5adb7b7a",
   "metadata": {},
   "outputs": [
    {
     "name": "stdout",
     "output_type": "stream",
     "text": [
      "original image is of fear\n",
      "1/1 [==============================] - 0s 50ms/step\n",
      "model prediction is  sad\n"
     ]
    },
    {
     "data": {
      "text/plain": [
       "<matplotlib.image.AxesImage at 0x2aa2a941300>"
      ]
     },
     "execution_count": 42,
     "metadata": {},
     "output_type": "execute_result"
    }
   ],
   "source": [
    "image = 'images/train/fear/2.jpg'\n",
    "print(\"original image is of fear\")\n",
    "img = ef(image)\n",
    "pred = model.predict(img)\n",
    "pred_label = label[pred.argmax()]\n",
    "print(\"model prediction is \",pred_label)\n",
    "plt.imshow(img.reshape(48,48),cmap='gray')"
   ]
  },
  {
   "cell_type": "code",
   "execution_count": 43,
   "id": "e5ea96ba",
   "metadata": {},
   "outputs": [
    {
     "name": "stdout",
     "output_type": "stream",
     "text": [
      "original image is of disgust\n",
      "1/1 [==============================] - 0s 85ms/step\n",
      "model prediction is  disgust\n"
     ]
    },
    {
     "data": {
      "text/plain": [
       "<matplotlib.image.AxesImage at 0x2aa2a999480>"
      ]
     },
     "execution_count": 43,
     "metadata": {},
     "output_type": "execute_result"
    }
   ],
   "source": [
    "image = 'images/train/disgust/299.jpg'\n",
    "print(\"original image is of disgust\")\n",
    "img = ef(image)\n",
    "pred = model.predict(img)\n",
    "pred_label = label[pred.argmax()]\n",
    "print(\"model prediction is \",pred_label)\n",
    "plt.imshow(img.reshape(48,48),cmap='gray')"
   ]
  },
  {
   "cell_type": "code",
   "execution_count": 44,
   "id": "1c4befa7",
   "metadata": {},
   "outputs": [
    {
     "name": "stdout",
     "output_type": "stream",
     "text": [
      "original image is of happy\n",
      "1/1 [==============================] - 0s 53ms/step\n",
      "model prediction is  happy\n"
     ]
    },
    {
     "data": {
      "text/plain": [
       "<matplotlib.image.AxesImage at 0x2a9dc7f6d70>"
      ]
     },
     "execution_count": 44,
     "metadata": {},
     "output_type": "execute_result"
    }
   ],
   "source": [
    "image = 'images/train/happy/7.jpg'\n",
    "print(\"original image is of happy\")\n",
    "img = ef(image)\n",
    "pred = model.predict(img)\n",
    "pred_label = label[pred.argmax()]\n",
    "print(\"model prediction is \",pred_label)\n",
    "plt.imshow(img.reshape(48,48),cmap='gray')"
   ]
  },
  {
   "cell_type": "code",
   "execution_count": 45,
   "id": "8d6bb2fa",
   "metadata": {},
   "outputs": [
    {
     "name": "stdout",
     "output_type": "stream",
     "text": [
      "original image is of surprise\n",
      "1/1 [==============================] - 0s 51ms/step\n",
      "model prediction is  surprise\n"
     ]
    },
    {
     "data": {
      "text/plain": [
       "<matplotlib.image.AxesImage at 0x2aa2a9b1900>"
      ]
     },
     "execution_count": 45,
     "metadata": {},
     "output_type": "execute_result"
    }
   ],
   "source": [
    "image = 'images/train/surprise/15.jpg'\n",
    "print(\"original image is of surprise\")\n",
    "img = ef(image)\n",
    "pred = model.predict(img)\n",
    "pred_label = label[pred.argmax()]\n",
    "print(\"model prediction is \",pred_label)\n",
    "plt.imshow(img.reshape(48,48),cmap='gray')"
   ]
  },
  {
   "cell_type": "code",
   "execution_count": null,
   "id": "b005764f",
   "metadata": {},
   "outputs": [],
   "source": []
  }
 ],
 "metadata": {
  "kernelspec": {
   "display_name": "testing_cuda",
   "language": "python",
   "name": "cuda_test_env"
  },
  "language_info": {
   "codemirror_mode": {
    "name": "ipython",
    "version": 3
   },
   "file_extension": ".py",
   "mimetype": "text/x-python",
   "name": "python",
   "nbconvert_exporter": "python",
   "pygments_lexer": "ipython3",
   "version": "3.10.13"
  }
 },
 "nbformat": 4,
 "nbformat_minor": 5
}
